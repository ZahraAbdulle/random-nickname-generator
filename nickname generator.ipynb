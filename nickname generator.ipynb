{
 "cells": [
  {
   "cell_type": "code",
   "execution_count": 1,
   "id": "fc756f10",
   "metadata": {},
   "outputs": [],
   "source": [
    "import random"
   ]
  },
  {
   "cell_type": "code",
   "execution_count": 2,
   "id": "7eb212e8",
   "metadata": {},
   "outputs": [],
   "source": [
    "adjectives = [\n",
    "    \"Silent\", \"Fearless\", \"Ancient\", \"Crimson\", \"Electric\",\n",
    "    \"Frozen\", \"Wicked\", \"Giant\", \"Radiant\", \"Swift\", \"Lunar\"\n",
    "]\n",
    "\n",
    "creatures = [\n",
    "    \"Phoenix\", \"Tiger\", \"Kraken\", \"Manticore\", \"Viper\",\n",
    "    \"Golem\", \"Basilisk\", \"Minotaur\", \"Griffin\", \"Wolf\"\n",
    "]\n",
    "\n",
    "suffixes = [\n",
    "    \"Lord\", \"Master\", \"Walker\", \"Slayer\", \"Seeker\",\n",
    "    \"Rider\", \"Guardian\", \"Champion\", \"Drifter\", \"Queen\"\n",
    "]\n",
    "\n",
    "leet_map = {\n",
    "    \"a\": \"4\", \"e\": \"3\", \"i\": \"1\", \"o\": \"0\",\n",
    "    \"s\": \"5\", \"t\": \"7\", \"l\": \"1\", \"b\": \"8\"\n",
    "}"
   ]
  },
  {
   "cell_type": "code",
   "execution_count": 3,
   "id": "f9f14e76",
   "metadata": {},
   "outputs": [],
   "source": [
    "def make_nickname(use_leet=False, add_number=False):\n",
    "    adj = random.choice(adjectives)\n",
    "    beast = random.choice(creatures)\n",
    "    end = random.choice(suffixes)\n",
    "    nickname = adj + beast + end\n",
    "    \n",
    "    if use_leet:\n",
    "        temp = []\n",
    "        for char in nickname:\n",
    "            lower_char = char.lower()\n",
    "            temp.append(leet_map.get(lower_char, char))\n",
    "        nickname = \"\".join(temp)\n",
    "    \n",
    "    if add_number:\n",
    "        nickname += str(random.randint(1, 999))\n",
    "    \n",
    "    return nickname"
   ]
  },
  {
   "cell_type": "code",
   "execution_count": 4,
   "id": "14c85e5d",
   "metadata": {},
   "outputs": [],
   "source": [
    "def generate_nicknames(count, use_leet=False, add_number=False):\n",
    "    nicknames = []\n",
    "    for _ in range(count):\n",
    "        nicknames.append(make_nickname(use_leet, add_number))\n",
    "    return nicknames"
   ]
  },
  {
   "cell_type": "code",
   "execution_count": 6,
   "id": "cfde367c",
   "metadata": {},
   "outputs": [
    {
     "name": "stdout",
     "output_type": "stream",
     "text": [
      "How many nicknames would you like? 2\n",
      "Transform to leet (y/n)? n\n",
      "Append a random number (y/n)? n\n",
      "FrozenKrakenSlayer\n",
      "ElectricKrakenGuardian\n"
     ]
    }
   ],
   "source": [
    "num = int(input(\"How many nicknames would you like? \"))\n",
    "use_leet = input(\"Transform to leet (y/n)? \").lower() == \"y\"\n",
    "add_num = input(\"Append a random number (y/n)? \").lower() == \"y\"\n",
    "\n",
    "for nick in generate_nicknames(num, use_leet, add_num):\n",
    "    print(nick)"
   ]
  },
  {
   "cell_type": "code",
   "execution_count": null,
   "id": "74d96539",
   "metadata": {},
   "outputs": [],
   "source": []
  }
 ],
 "metadata": {
  "kernelspec": {
   "display_name": "Python 3 (ipykernel)",
   "language": "python",
   "name": "python3"
  },
  "language_info": {
   "codemirror_mode": {
    "name": "ipython",
    "version": 3
   },
   "file_extension": ".py",
   "mimetype": "text/x-python",
   "name": "python",
   "nbconvert_exporter": "python",
   "pygments_lexer": "ipython3",
   "version": "3.9.7"
  }
 },
 "nbformat": 4,
 "nbformat_minor": 5
}
